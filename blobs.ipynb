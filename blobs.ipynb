{
  "nbformat": 4,
  "nbformat_minor": 0,
  "metadata": {
    "colab": {
      "name": "blobs.ipynb",
      "provenance": []
    },
    "kernelspec": {
      "name": "python3",
      "display_name": "Python 3"
    },
    "accelerator": "GPU"
  },
  "cells": [
    {
      "cell_type": "markdown",
      "metadata": {
        "id": "m7cAziuG5HLV"
      },
      "source": [
        "# Can ResNet count?\n",
        "The training data consists of pictures with 100 by 100 pixels, containing either one, two, three, four or five blobs, where the blobs are solid, non-overlapping, axis-aligned ellipses of various sizes and colours.\n",
        "\n",
        "Then we let ResNet-18 loose on the data, with all the same settings as the last section in https://github.com/fastai/fastbook/blob/master/04_mnist_basics.ipynb"
      ]
    },
    {
      "cell_type": "code",
      "metadata": {
        "id": "aDwspL-y17qO"
      },
      "source": [
        "!pip install -Uqq fastbook\n",
        "import fastbook\n",
        "fastbook.setup_book()"
      ],
      "execution_count": 108,
      "outputs": []
    },
    {
      "cell_type": "code",
      "metadata": {
        "id": "8tONml0U17qS"
      },
      "source": [
        "from fastai.vision.all import *\n",
        "from fastbook import *"
      ],
      "execution_count": 109,
      "outputs": []
    },
    {
      "cell_type": "code",
      "metadata": {
        "id": "Ao4JIlH3iH40"
      },
      "source": [
        "from PIL import Image, ImageDraw"
      ],
      "execution_count": 110,
      "outputs": []
    },
    {
      "cell_type": "markdown",
      "metadata": {
        "id": "VVUiqRad65ky"
      },
      "source": [
        "## Constants\n",
        "\n",
        "With five categories, it seems to struggle when the number of pictures is small.  Maybe it is fundamentally a hard problem.\n",
        "\n",
        "On the other hand, with just two categories (one blob or two blobs) and with all blobs being black, ResNet-18 reaches 99.994% accuracy, even with just 100 training pictures."
      ]
    },
    {
      "cell_type": "code",
      "metadata": {
        "id": "JMJDp4_UegfX"
      },
      "source": [
        "pictureSize = 100\n",
        "minDiameter = 10\n",
        "maxDiameter = 30\n",
        "margin = 3\n",
        "minSeparation = 2\n",
        "numCirclesCategories = [1,2,3,4,5]   # i.e. some pictures have 1 circle, some have 2 circles etc.\n",
        "loaders = [('train', 2000), ('valid', 200)]  # names and num samples (per numCircles category)\n",
        "overlapThreshold = 5"
      ],
      "execution_count": 111,
      "outputs": []
    },
    {
      "cell_type": "markdown",
      "metadata": {
        "id": "N4iqzkBa7cnl"
      },
      "source": [
        "## Functions for generating the random PNGs and saving them to disk"
      ]
    },
    {
      "cell_type": "code",
      "metadata": {
        "id": "x0AFTBn2gOHz"
      },
      "source": [
        "# Create the PNG files and the label.csv file.\n",
        "def createBlobs():\n",
        "    with open('labels.csv', 'w') as labels_fh:\n",
        "        labels_fh.write('name,label\\n')\n",
        "        for loaderName, loaderSize in loaders:\n",
        "            if os.path.exists(loaderName):\n",
        "                shutil.rmtree(loaderName)\n",
        "            for numCircles in numCirclesCategories:\n",
        "                os.makedirs(f'{loaderName}/{numCircles}')\n",
        "                for i in range(loaderSize):\n",
        "                    labels_fh.write(f'{loaderName}/{numCircles}/{i}.png,{numCircles}\\n')\n",
        "                    createPNG(loaderName, numCircles, i)"
      ],
      "execution_count": 112,
      "outputs": []
    },
    {
      "cell_type": "code",
      "metadata": {
        "id": "nJXOMVyMgpXu"
      },
      "source": [
        "# Create a PNG file.\n",
        "def createPNG(loaderName, numCircles, i):\n",
        "    img = Image.new('RGB', (pictureSize, pictureSize), color = 'white')\n",
        "    d = ImageDraw.Draw(img)\n",
        "    circles = chooseCircles(numCircles)\n",
        "    for left, top, xDiam, yDiam in circles:\n",
        "        d.ellipse([left, top, left + xDiam, top + yDiam],\n",
        "                  fill=(random.randint(0, 200), random.randint(0, 200), random.randint(0, 200)))\n",
        "    img.save(f'{loaderName}/{numCircles}/{i}.png')"
      ],
      "execution_count": 113,
      "outputs": []
    },
    {
      "cell_type": "code",
      "metadata": {
        "id": "D66rDyHGgu-0"
      },
      "source": [
        "# Return a list of non-overlapping ellipses.  Each ellipse is represented\n",
        "# as a tuple of four integers.\n",
        "def chooseCircles(numCircles):\n",
        "    while True:\n",
        "        circles = tryToChooseCircles(numCircles)\n",
        "        if circles:\n",
        "            return circles"
      ],
      "execution_count": 114,
      "outputs": []
    },
    {
      "cell_type": "code",
      "metadata": {
        "id": "LtVJj1t-g0HG"
      },
      "source": [
        "# Return a list of non-overlapping ellipses, or None if any of them overlap.\n",
        "def tryToChooseCircles(numCircles):\n",
        "    circles = []\n",
        "    for i in range(numCircles):\n",
        "        xDiam = random.randint(minDiameter, maxDiameter)\n",
        "        yDiam = random.randint(minDiameter, maxDiameter)\n",
        "        left = random.randint(margin, pictureSize - margin - xDiam)\n",
        "        top  = random.randint(margin, pictureSize - margin - yDiam)\n",
        "        circles.append((left, top, xDiam, yDiam))\n",
        "        for j in range(i):\n",
        "            if overlapping(circles[-1], circles[j]):\n",
        "                return None\n",
        "    return circles"
      ],
      "execution_count": 115,
      "outputs": []
    },
    {
      "cell_type": "code",
      "metadata": {
        "id": "AQr6reJ0g_oT"
      },
      "source": [
        "# Return true if the circles enclosing the two ellipses overlap or nearly overlap.\n",
        "def overlapping(a, b):\n",
        "    maxDiam_a = max(a[2], a[3])\n",
        "    maxDiam_b = max(b[2], b[3])\n",
        "    sumOfRadii = (maxDiam_a + maxDiam_b) / 2\n",
        "    distBetweenCentres = math.hypot(a[0] - b[0], a[1] - b[1])\n",
        "    return sumOfRadii + overlapThreshold > distBetweenCentres"
      ],
      "execution_count": 116,
      "outputs": []
    },
    {
      "cell_type": "markdown",
      "metadata": {
        "id": "QNMPbFJF7zU4"
      },
      "source": [
        "## Generate the data"
      ]
    },
    {
      "cell_type": "code",
      "metadata": {
        "id": "d_weKVxChGG0"
      },
      "source": [
        "random.seed(42)\n",
        "createBlobs()"
      ],
      "execution_count": 117,
      "outputs": []
    },
    {
      "cell_type": "code",
      "metadata": {
        "id": "6ucPJUHrGGYG"
      },
      "source": [
        "dls = ImageDataLoaders.from_folder('.')"
      ],
      "execution_count": 118,
      "outputs": []
    },
    {
      "cell_type": "code",
      "metadata": {
        "id": "4HR5tp_EGMqi",
        "outputId": "039f7897-660e-4808-eb7f-dbd5c3648934",
        "colab": {
          "base_uri": "https://localhost:8080/",
          "height": 193
        }
      },
      "source": [
        "dls.train.show_batch(max_n=4, nrows=1)"
      ],
      "execution_count": 119,
      "outputs": [
        {
          "output_type": "display_data",
          "data": {
            "image/png": "[encoded data removed]",
            "text/plain": [
              "<Figure size 864x216 with 4 Axes>"
            ]
          },
          "metadata": {
            "tags": [],
            "needs_background": "light"
          }
        }
      ]
    },
    {
      "cell_type": "markdown",
      "metadata": {
        "id": "rp7oJGvk74Y7"
      },
      "source": [
        "## Train the model\n",
        "\n",
        "Notice how the accuracy doesn't improve at all until the 97th epoch."
      ]
    },
    {
      "cell_type": "code",
      "metadata": {
        "id": "kpFj2awI17xH",
        "outputId": "994cb896-6964-44f7-b26b-d4e3e9c95356",
        "colab": {
          "base_uri": "https://localhost:8080/",
          "height": 935
        }
      },
      "source": [
        "learn = cnn_learner(dls, resnet18, pretrained=False,\n",
        "                    loss_func=F.cross_entropy, metrics=accuracy)\n",
        "learn.fit_one_cycle(30, 0.1)"
      ],
      "execution_count": 120,
      "outputs": [
        {
          "output_type": "display_data",
          "data": {
            "text/html": [
              "<table border=\"1\" class=\"dataframe\">\n",
              "  <thead>\n",
              "    <tr style=\"text-align: left;\">\n",
              "      <th>epoch</th>\n",
              "      <th>train_loss</th>\n",
              "      <th>valid_loss</th>\n",
              "      <th>accuracy</th>\n",
              "      <th>time</th>\n",
              "    </tr>\n",
              "  </thead>\n",
              "  <tbody>\n",
              "    <tr>\n",
              "      <td>0</td>\n",
              "      <td>0.378042</td>\n",
              "      <td>2.519807</td>\n",
              "      <td>0.776000</td>\n",
              "      <td>00:14</td>\n",
              "    </tr>\n",
              "    <tr>\n",
              "      <td>1</td>\n",
              "      <td>0.294947</td>\n",
              "      <td>1.569096</td>\n",
              "      <td>0.592000</td>\n",
              "      <td>00:14</td>\n",
              "    </tr>\n",
              "    <tr>\n",
              "      <td>2</td>\n",
              "      <td>0.309933</td>\n",
              "      <td>1.368622</td>\n",
              "      <td>0.844000</td>\n",
              "      <td>00:14</td>\n",
              "    </tr>\n",
              "    <tr>\n",
              "      <td>3</td>\n",
              "      <td>0.302169</td>\n",
              "      <td>2.099352</td>\n",
              "      <td>0.824000</td>\n",
              "      <td>00:14</td>\n",
              "    </tr>\n",
              "    <tr>\n",
              "      <td>4</td>\n",
              "      <td>0.931972</td>\n",
              "      <td>1492.027588</td>\n",
              "      <td>0.200000</td>\n",
              "      <td>00:14</td>\n",
              "    </tr>\n",
              "    <tr>\n",
              "      <td>5</td>\n",
              "      <td>0.658546</td>\n",
              "      <td>0.360844</td>\n",
              "      <td>0.937000</td>\n",
              "      <td>00:14</td>\n",
              "    </tr>\n",
              "    <tr>\n",
              "      <td>6</td>\n",
              "      <td>2.191302</td>\n",
              "      <td>151.610580</td>\n",
              "      <td>0.200000</td>\n",
              "      <td>00:14</td>\n",
              "    </tr>\n",
              "    <tr>\n",
              "      <td>7</td>\n",
              "      <td>1.268931</td>\n",
              "      <td>16.334581</td>\n",
              "      <td>0.679000</td>\n",
              "      <td>00:14</td>\n",
              "    </tr>\n",
              "    <tr>\n",
              "      <td>8</td>\n",
              "      <td>1.126488</td>\n",
              "      <td>5857.369141</td>\n",
              "      <td>0.200000</td>\n",
              "      <td>00:14</td>\n",
              "    </tr>\n",
              "    <tr>\n",
              "      <td>9</td>\n",
              "      <td>0.883123</td>\n",
              "      <td>4260.360352</td>\n",
              "      <td>0.008000</td>\n",
              "      <td>00:13</td>\n",
              "    </tr>\n",
              "    <tr>\n",
              "      <td>10</td>\n",
              "      <td>1.851976</td>\n",
              "      <td>0.302769</td>\n",
              "      <td>0.989000</td>\n",
              "      <td>00:13</td>\n",
              "    </tr>\n",
              "    <tr>\n",
              "      <td>11</td>\n",
              "      <td>0.613362</td>\n",
              "      <td>5.580698</td>\n",
              "      <td>0.873000</td>\n",
              "      <td>00:14</td>\n",
              "    </tr>\n",
              "    <tr>\n",
              "      <td>12</td>\n",
              "      <td>0.660818</td>\n",
              "      <td>0.000000</td>\n",
              "      <td>1.000000</td>\n",
              "      <td>00:14</td>\n",
              "    </tr>\n",
              "    <tr>\n",
              "      <td>13</td>\n",
              "      <td>0.506590</td>\n",
              "      <td>257.562897</td>\n",
              "      <td>0.147000</td>\n",
              "      <td>00:14</td>\n",
              "    </tr>\n",
              "    <tr>\n",
              "      <td>14</td>\n",
              "      <td>0.994136</td>\n",
              "      <td>0.000000</td>\n",
              "      <td>1.000000</td>\n",
              "      <td>00:14</td>\n",
              "    </tr>\n",
              "    <tr>\n",
              "      <td>15</td>\n",
              "      <td>0.317999</td>\n",
              "      <td>27.402988</td>\n",
              "      <td>0.997000</td>\n",
              "      <td>00:14</td>\n",
              "    </tr>\n",
              "    <tr>\n",
              "      <td>16</td>\n",
              "      <td>0.270807</td>\n",
              "      <td>0.168541</td>\n",
              "      <td>0.998000</td>\n",
              "      <td>00:14</td>\n",
              "    </tr>\n",
              "    <tr>\n",
              "      <td>17</td>\n",
              "      <td>0.717514</td>\n",
              "      <td>0.025405</td>\n",
              "      <td>0.997000</td>\n",
              "      <td>00:14</td>\n",
              "    </tr>\n",
              "    <tr>\n",
              "      <td>18</td>\n",
              "      <td>0.917756</td>\n",
              "      <td>0.109135</td>\n",
              "      <td>0.998000</td>\n",
              "      <td>00:14</td>\n",
              "    </tr>\n",
              "    <tr>\n",
              "      <td>19</td>\n",
              "      <td>0.208139</td>\n",
              "      <td>0.174440</td>\n",
              "      <td>0.996000</td>\n",
              "      <td>00:14</td>\n",
              "    </tr>\n",
              "    <tr>\n",
              "      <td>20</td>\n",
              "      <td>0.035755</td>\n",
              "      <td>0.174722</td>\n",
              "      <td>0.997000</td>\n",
              "      <td>00:14</td>\n",
              "    </tr>\n",
              "    <tr>\n",
              "      <td>21</td>\n",
              "      <td>0.129429</td>\n",
              "      <td>0.153458</td>\n",
              "      <td>0.998000</td>\n",
              "      <td>00:14</td>\n",
              "    </tr>\n",
              "    <tr>\n",
              "      <td>22</td>\n",
              "      <td>0.101348</td>\n",
              "      <td>0.096275</td>\n",
              "      <td>0.999000</td>\n",
              "      <td>00:14</td>\n",
              "    </tr>\n",
              "    <tr>\n",
              "      <td>23</td>\n",
              "      <td>0.230881</td>\n",
              "      <td>0.104338</td>\n",
              "      <td>0.998000</td>\n",
              "      <td>00:14</td>\n",
              "    </tr>\n",
              "    <tr>\n",
              "      <td>24</td>\n",
              "      <td>0.133491</td>\n",
              "      <td>0.110752</td>\n",
              "      <td>0.999000</td>\n",
              "      <td>00:14</td>\n",
              "    </tr>\n",
              "    <tr>\n",
              "      <td>25</td>\n",
              "      <td>0.028030</td>\n",
              "      <td>0.072201</td>\n",
              "      <td>0.999000</td>\n",
              "      <td>00:14</td>\n",
              "    </tr>\n",
              "    <tr>\n",
              "      <td>26</td>\n",
              "      <td>0.024823</td>\n",
              "      <td>0.077140</td>\n",
              "      <td>0.999000</td>\n",
              "      <td>00:13</td>\n",
              "    </tr>\n",
              "    <tr>\n",
              "      <td>27</td>\n",
              "      <td>0.004828</td>\n",
              "      <td>0.092997</td>\n",
              "      <td>0.999000</td>\n",
              "      <td>00:14</td>\n",
              "    </tr>\n",
              "    <tr>\n",
              "      <td>28</td>\n",
              "      <td>0.000496</td>\n",
              "      <td>0.066607</td>\n",
              "      <td>0.999000</td>\n",
              "      <td>00:14</td>\n",
              "    </tr>\n",
              "    <tr>\n",
              "      <td>29</td>\n",
              "      <td>0.004033</td>\n",
              "      <td>0.093889</td>\n",
              "      <td>0.999000</td>\n",
              "      <td>00:14</td>\n",
              "    </tr>\n",
              "  </tbody>\n",
              "</table>"
            ],
            "text/plain": [
              "<IPython.core.display.HTML object>"
            ]
          },
          "metadata": {
            "tags": []
          }
        }
      ]
    }
  ]
}