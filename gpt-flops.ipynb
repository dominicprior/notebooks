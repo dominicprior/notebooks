{
 "cells": [
  {
   "cell_type": "code",
   "execution_count": 1,
   "id": "e802a1bb-f20e-4a99-a420-1c5487a0cddd",
   "metadata": {},
   "outputs": [],
   "source": [
    "import torch\n",
    "import torch.nn as nn\n",
    "from torch.nn import functional as F\n",
    "import time\n",
    "from torch.profiler import profile, record_function, ProfilerActivity"
   ]
  },
  {
   "cell_type": "code",
   "execution_count": null,
   "id": "7de6f7e1-6c14-4273-9de7-67c12826a1ba",
   "metadata": {},
   "outputs": [],
   "source": [
    "# This is a cut down version of:\n",
    "# https://github.com/karpathy/ng-video-lecture/blob/master/gpt.py\n",
    "# The idea is to see the "
   ]
  },
  {
   "cell_type": "code",
   "execution_count": 2,
   "id": "16de9c26-a694-4f81-a955-54360808d6ad",
   "metadata": {},
   "outputs": [],
   "source": [
    "# hyperparameters\n",
    "# (my GPU ran out of memory with the default settings - so i am halving all the parameters that affect model size)\n",
    "# (the model size was 10.788929 M parameters)\n",
    "# (the message was: OutOfMemoryError: CUDA out of memory. Tried to allocate 96.00 MiB (GPU 0; 4.00 GiB total capacity;\n",
    "# 3.23 GiB already allocated; 0 bytes free; 3.40 GiB reserved in total by PyTorch)\n",
    "# If reserved memory is >> allocated memory try setting max_split_size_mb to avoid fragmentation.\n",
    "# See documentation for Memory Management and PYTORCH_CUDA_ALLOC_CONF)\n",
    "# Even with the reduced params (with 2.715713 M parameters) it ran out of memory until I restarted the kernel\n",
    "# The training took 16 seconds on my GPU and 220 seconds on my CPU with one hundredth of the batches and half for all the footprints stats.\n",
    "\n",
    "block_size = 4  ## 64  ## 128  ## 256 # what is the maximum context length for predictions?\n",
    "max_iters = 1  ## 50  ## 5000  # how many training batches to do\n",
    "eval_interval = 5  ## 500\n",
    "learning_rate = 3e-4\n",
    "eval_iters = 20  ## 200  # for estimate_loss\n",
    "n_embd = 12  ## 192  ## 384\n",
    "n_head = 3  # giving head_size = n_embd // n_head = 32\n",
    "n_layer = 1\n",
    "dropout = 0.2"
   ]
  },
  {
   "cell_type": "code",
   "execution_count": 3,
   "id": "96eb3163-4f0d-4506-a9bb-b512f3ab674a",
   "metadata": {},
   "outputs": [
    {
     "data": {
      "text/plain": [
       "'vocab_size = 65'"
      ]
     },
     "execution_count": 3,
     "metadata": {},
     "output_type": "execute_result"
    }
   ],
   "source": [
    "torch.manual_seed(1337)\n",
    "\n",
    "# wget https://raw.githubusercontent.com/karpathy/char-rnn/master/data/tinyshakespeare/input.txt\n",
    "with open('shakespeare.txt', 'r', encoding='utf-8') as f:\n",
    "    text = f.read()\n",
    "\n",
    "# here are all the unique characters that occur in this text\n",
    "chars = sorted(list(set(text)))\n",
    "vocab_size = len(chars)\n",
    "# create a mapping from characters to integers\n",
    "stoi = { ch:i for i,ch in enumerate(chars) }\n",
    "itos = { i:ch for i,ch in enumerate(chars) }\n",
    "encode = lambda s: [stoi[c] for c in s] # encoder: take a string, output a list of integers\n",
    "decode = lambda l: ''.join([itos[i] for i in l]) # decoder: take a list of integers, output a string\n",
    "\n",
    "# Train and test splits\n",
    "data = torch.tensor(encode(text), dtype=torch.long)\n",
    "n = int(0.9*len(data)) # first 90% will be train, rest val\n",
    "train_data = data[:n]\n",
    "val_data = data[n:]\n",
    "f'{vocab_size = }'"
   ]
  },
  {
   "cell_type": "code",
   "execution_count": 4,
   "id": "a980c849-5278-46a8-93e7-5f3d2165badf",
   "metadata": {},
   "outputs": [],
   "source": [
    "class MultiHeadAttention(nn.Module):\n",
    "    \"\"\" multiple heads of self-attention in parallel \"\"\"\n",
    "\n",
    "    def __init__(self, num_heads, head_size):\n",
    "        ##print(f'MHA init: {head_size = }')\n",
    "        super().__init__()\n",
    "        self.heads = nn.ModuleList([Head(head_size) for _ in range(num_heads)])\n",
    "        self.proj = nn.Linear(head_size * num_heads, n_embd)\n",
    "        self.dropout = nn.Dropout(dropout)\n",
    "\n",
    "    def forward(self, x):\n",
    "        ##print(f'MHA: {x.shape = }')\n",
    "        out = torch.cat([h(x) for h in self.heads], dim=-1)\n",
    "        out = self.dropout(self.proj(out))\n",
    "        return out"
   ]
  },
  {
   "cell_type": "code",
   "execution_count": 5,
   "id": "f9aae51b-c9be-4b1c-b8e6-074c9120060b",
   "metadata": {},
   "outputs": [],
   "source": [
    "class FeedFoward(nn.Module):\n",
    "    \"\"\" a simple linear layer followed by a non-linearity \"\"\"\n",
    "\n",
    "    def __init__(self, n_embd):\n",
    "        super().__init__()\n",
    "        ##print(f'FeedFoward: {n_embd = }')\n",
    "        self.net = nn.Sequential(\n",
    "            nn.Linear(n_embd, 4 * n_embd),\n",
    "            nn.ReLU(),\n",
    "            nn.Linear(4 * n_embd, n_embd),\n",
    "            nn.Dropout(dropout),\n",
    "        )\n",
    "\n",
    "    def forward(self, x):\n",
    "        return self.net(x)"
   ]
  },
  {
   "cell_type": "code",
   "execution_count": 6,
   "id": "b8c42a3b-3702-4fa1-869a-1b2a7595484f",
   "metadata": {},
   "outputs": [],
   "source": [
    "class Block(nn.Module):\n",
    "    \"\"\" Transformer block: communication followed by computation \"\"\"\n",
    "\n",
    "    def __init__(self, n_embd, n_head):\n",
    "        # n_embd: embedding dimension, n_head: the number of heads we'd like\n",
    "        super().__init__()\n",
    "        head_size = n_embd // n_head\n",
    "        self.sa = MultiHeadAttention(n_head, head_size)\n",
    "        self.ffwd = FeedFoward(n_embd)\n",
    "        self.ln1 = nn.LayerNorm(n_embd)\n",
    "        self.ln2 = nn.LayerNorm(n_embd)\n",
    "\n",
    "    def forward(self, x):\n",
    "        ##print(f'Block: {x.shape = }')\n",
    "        x = x + self.sa(self.ln1(x))\n",
    "        x = x + self.ffwd(self.ln2(x))\n",
    "        return x"
   ]
  },
  {
   "cell_type": "code",
   "execution_count": 7,
   "id": "acb9ab4d-170f-46fd-a4c4-8cbfd20ab123",
   "metadata": {},
   "outputs": [],
   "source": [
    "class GPTLanguageModel(nn.Module):\n",
    "\n",
    "    def __init__(self):\n",
    "        super().__init__()\n",
    "        # each token directly reads off the logits for the next token from a lookup table\n",
    "        print(f'init: {block_size = }')\n",
    "        self.token_embedding_table = nn.Embedding(vocab_size, n_embd)\n",
    "        self.position_embedding_table = nn.Embedding(block_size, n_embd)\n",
    "        self.blocks = nn.Sequential(*[Block(n_embd, n_head=n_head) for _ in range(n_layer)])\n",
    "        self.ln_f = nn.LayerNorm(n_embd) # final layer norm\n",
    "        self.lm_head = nn.Linear(n_embd, vocab_size)\n",
    "\n",
    "        # better init, not covered in the original GPT video, but important, will cover in followup video\n",
    "        self.apply(self._init_weights)\n",
    "\n",
    "    def _init_weights(self, module):\n",
    "        if isinstance(module, nn.Linear):\n",
    "            torch.nn.init.normal_(module.weight, mean=0.0, std=0.02)\n",
    "            if module.bias is not None:\n",
    "                torch.nn.init.zeros_(module.bias)\n",
    "        elif isinstance(module, nn.Embedding):\n",
    "            torch.nn.init.normal_(module.weight, mean=0.0, std=0.02)\n",
    "\n",
    "    def forward(self, idx, targets=None):\n",
    "        B, T = idx.shape\n",
    "\n",
    "        # idx and targets are both (B,T) tensor of integers\n",
    "        tok_emb = self.token_embedding_table(idx) # (B,T,C)\n",
    "        ##print(f'GPTLanguageModel: {tok_emb.shape = }')\n",
    "        pos_emb = self.position_embedding_table(torch.arange(T)) # (T,C)\n",
    "        ##print(f'GPTLanguageModel: {pos_emb.shape = }')\n",
    "        x = tok_emb + pos_emb # (B,T,C)\n",
    "        print(f'GPTLanguageModel: {x.shape = }')\n",
    "        x = self.blocks(x) # (B,T,C)\n",
    "        x = self.ln_f(x) # (B,T,C)\n",
    "        logits = self.lm_head(x) # (B,T,vocab_size)\n",
    "\n",
    "        if targets is None:\n",
    "            loss = None\n",
    "        else:\n",
    "            B, T, C = logits.shape\n",
    "            logits = logits.view(B*T, C)\n",
    "            targets = targets.view(B*T)\n",
    "            loss = F.cross_entropy(logits, targets)\n",
    "\n",
    "        return logits, loss"
   ]
  },
  {
   "cell_type": "code",
   "execution_count": 8,
   "id": "39651dd6-8852-4392-ab9f-584a0024b661",
   "metadata": {},
   "outputs": [],
   "source": [
    "class Head(nn.Module):\n",
    "    \"\"\" one head of self-attention \"\"\"\n",
    "\n",
    "    def __init__(self, head_size):\n",
    "        super().__init__()\n",
    "        self.key = nn.Linear(n_embd, head_size, bias=False)\n",
    "        self.query = nn.Linear(n_embd, head_size, bias=False)\n",
    "        self.value = nn.Linear(n_embd, head_size, bias=False)\n",
    "        self.register_buffer('tril', torch.tril(torch.ones(block_size, block_size)))\n",
    "\n",
    "        self.dropout = nn.Dropout(dropout)\n",
    "\n",
    "    def forward(self, x):\n",
    "        print(f'Head: {x.shape = }')\n",
    "        # input of size (batch, time-step, channels)\n",
    "        # output of size (batch, time-step, head size)\n",
    "        B,T,C = x.shape\n",
    "        k = self.key(x)   # (hs,C) @ (B,T,C) -> (B,T,hs)  # cost = hs * T * C\n",
    "        print(f'Head: {k.shape = }')\n",
    "        q = self.query(x) # (B,T,hs)\n",
    "        # compute attention scores (\"affinities\")\n",
    "        wei = q @ k.transpose(-2,-1) * k.shape[-1]**-0.5 # (B, T, hs) @ (B, hs, T) -> (B, T, T)  # cost = hs * T * T\n",
    "        ##print(f'Head: {wei.shape = }')\n",
    "        wei = wei.masked_fill(self.tril[:T, :T] == 0, float('-inf')) # (B, T, T)\n",
    "        wei = F.softmax(wei, dim=-1) # (B, T, T)\n",
    "        wei = self.dropout(wei)\n",
    "        # perform the weighted aggregation of the values\n",
    "        v = self.value(x) # (B,T,hs)\n",
    "        out = wei @ v # (B, T, T) @ (B, T, hs) -> (B, T, hs)\n",
    "        return out"
   ]
  },
  {
   "cell_type": "code",
   "execution_count": 9,
   "id": "d51ca912-63c1-4aed-a431-e2745c7e54f6",
   "metadata": {},
   "outputs": [
    {
     "name": "stdout",
     "output_type": "stream",
     "text": [
      "init: block_size = 4\n",
      "3545  parameters\n",
      "GPTLanguageModel: x.shape = torch.Size([1, 2, 12])\n",
      "Head: x.shape = torch.Size([1, 2, 12])\n",
      "Head: k.shape = torch.Size([1, 2, 4])\n",
      "Head: x.shape = torch.Size([1, 2, 12])\n",
      "Head: k.shape = torch.Size([1, 2, 4])\n",
      "Head: x.shape = torch.Size([1, 2, 12])\n",
      "Head: k.shape = torch.Size([1, 2, 4])\n"
     ]
    }
   ],
   "source": [
    "m = GPTLanguageModel()\n",
    "print(sum(p.numel() for p in m.parameters()), ' parameters')\n",
    "with profile(activities=[ProfilerActivity.CPU], record_shapes=True) as prof:\n",
    "    with record_function(\"model_inference\"):\n",
    "        # m(torch.tensor([[3, 4], [3, 4], [3, 4], [3, 4], [3, 4]]))\n",
    "        m(torch.tensor([[3, 4]]))"
   ]
  },
  {
   "cell_type": "code",
   "execution_count": 10,
   "id": "05811d4e-6a92-42ec-b05d-d84b92e19a18",
   "metadata": {},
   "outputs": [
    {
     "name": "stdout",
     "output_type": "stream",
     "text": [
      "---------------------------  ------------  ------------  ------------  ------------  ------------  ------------  ----------------------------------------  \n",
      "                       Name    Self CPU %      Self CPU   CPU total %     CPU total  CPU time avg    # of Calls                              Input Shapes  \n",
      "---------------------------  ------------  ------------  ------------  ------------  ------------  ------------  ----------------------------------------  \n",
      "            model_inference        38.27%       1.227ms       100.00%       3.206ms       3.206ms             1                                        []  \n",
      "               aten::linear         2.93%      94.000us        13.29%     426.000us      47.333us             9                 [[1, 2, 12], [4, 12], []]  \n",
      "               aten::matmul         1.72%      55.000us         9.86%     316.000us      35.111us             9                     [[1, 2, 12], [12, 4]]  \n",
      "                   aten::mm         5.46%     175.000us         5.52%     177.000us      19.667us             9                        [[2, 12], [12, 4]]  \n",
      "---------------------------  ------------  ------------  ------------  ------------  ------------  ------------  ----------------------------------------  \n",
      "Self CPU time total: 3.206ms\n",
      "\n"
     ]
    }
   ],
   "source": [
    "print(prof.key_averages(group_by_input_shape=True).table(sort_by=\"cpu_time_total\", row_limit=4))"
   ]
  },
  {
   "cell_type": "code",
   "execution_count": 11,
   "id": "cda870a1-b9b3-48f9-93eb-3e623a638cfd",
   "metadata": {},
   "outputs": [
    {
     "data": {
      "text/plain": [
       "[(9, [[1, 2, 12], [4, 12], []]),\n",
       " (1, [[1, 2, 12], [12, 12], [12]]),\n",
       " (1, [[1, 2, 12], [48, 12], [48]]),\n",
       " (1, [[1, 2, 48], [12, 48], [12]]),\n",
       " (1, [[1, 2, 12], [65, 12], [65]])]"
      ]
     },
     "execution_count": 11,
     "metadata": {},
     "output_type": "execute_result"
    }
   ],
   "source": [
    "k = [(x.count, x.input_shapes) for x in prof.key_averages(group_by_input_shape=True) if x.key == 'aten::linear']\n",
    "k\n",
    "#### batch_size = 5\n",
    "#### block_size = T = 2\n",
    "#### n_embd = e = 12\n",
    "#### head_size = 4\n",
    "#[(9, [[1, 2, 12], [4, 12], []]),     # (ditto)\n",
    "# (1, [[1, 2, 12], [12, 12], [12]]),  # Block ffwd   T * e * e\n",
    "# (1, [[1, 2, 12], [48, 12], [48]]),  # FeedFoward   T * 4 * e * e\n",
    "# (1, [[1, 2, 48], [12, 48], [12]]),  # FeedFoward   T * 4 * e * e\n",
    "# (1, [[1, 2, 12], [65, 12], [65]])]  # initial vocab thing (only non-layer thing)"
   ]
  },
  {
   "cell_type": "code",
   "execution_count": 12,
   "id": "a59200c5-7d0f-4182-a0a9-87eac1b2295a",
   "metadata": {},
   "outputs": [
    {
     "data": {
      "text/plain": [
       "[(9, [[1, 2, 12], [12, 4]]),\n",
       " (3, [[1, 2, 4], [1, 4, 2]]),\n",
       " (3, [[1, 2, 2], [1, 2, 4]])]"
      ]
     },
     "execution_count": 12,
     "metadata": {},
     "output_type": "execute_result"
    }
   ],
   "source": [
    "k = [(x.count, x.input_shapes) for x in prof.key_averages(group_by_input_shape=True) if x.key == 'aten::matmul']\n",
    "k\n",
    "#[(9, [[1, 2, 12], [12, 4]]),   # q = self.query(x)...  T * e * hs * n_head = T * e * e\n",
    "# (3, [[1, 2, 4], [1, 4, 2]]),  # wei = q @ k     hs * T * T\n",
    "# (3, [[1, 2, 2], [1, 2, 4]])]  # out = wei @ v   T * T * hs"
   ]
  },
  {
   "cell_type": "code",
   "execution_count": 13,
   "id": "15ca869f-1c1e-4ad2-9143-1a70dfd97424",
   "metadata": {},
   "outputs": [
    {
     "data": {
      "text/plain": [
       "128.0"
      ]
     },
     "execution_count": 13,
     "metadata": {},
     "output_type": "execute_result"
    }
   ],
   "source": [
    "12288 / 96"
   ]
  },
  {
   "cell_type": "code",
   "execution_count": 14,
   "id": "7c2d229f-6ca9-4f27-bb28-3a02d9f3259e",
   "metadata": {},
   "outputs": [],
   "source": [
    "def cost(L, T, e, hs):\n",
    "    return L * (10 * T * e * e + 2 * T * T * hs)"
   ]
  },
  {
   "cell_type": "code",
   "execution_count": 15,
   "id": "a41c1678-b920-41a7-91b1-4f827c87840c",
   "metadata": {},
   "outputs": [
    {
     "data": {
      "text/plain": [
       "270.09375"
      ]
     },
     "execution_count": 15,
     "metadata": {},
     "output_type": "execute_result"
    }
   ],
   "source": [
    "cost(96, 2048, 12288, 128) / 1024 / 1024 / 1024 / 1024  # for GPT-3"
   ]
  }
 ],
 "metadata": {
  "kernelspec": {
   "display_name": "Python 3 (ipykernel)",
   "language": "python",
   "name": "python3"
  },
  "language_info": {
   "codemirror_mode": {
    "name": "ipython",
    "version": 3
   },
   "file_extension": ".py",
   "mimetype": "text/x-python",
   "name": "python",
   "nbconvert_exporter": "python",
   "pygments_lexer": "ipython3",
   "version": "3.11.4"
  }
 },
 "nbformat": 4,
 "nbformat_minor": 5
}
