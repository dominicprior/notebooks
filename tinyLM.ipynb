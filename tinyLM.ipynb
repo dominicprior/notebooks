{
 "cells": [
  {
   "cell_type": "markdown",
   "id": "7451ded6-f6f7-4405-9e98-dcdc84dd623a",
   "metadata": {},
   "source": [
    "# A tiny language model\n",
    "- Adapted from https://github.com/karpathy/ng-video-lecture/blob/master/gpt.py\n",
    "- Generates simple sentences like the white dog chased the small cat.\n",
    "- Has less than 2000 parameters but still seems to take nearly 2 minutes to train on a three year old entry level graphics card.\n",
    "- Seems to find some word embeddings as part of the overall training that end up with dog being close to cat etc."
   ]
  },
  {
   "cell_type": "code",
   "execution_count": 1,
   "id": "92cbd7c7-e7a0-4b93-9c14-12408888f1c4",
   "metadata": {},
   "outputs": [],
   "source": [
    "# generate the training data\n",
    "nouns = ['dog', 'cat']\n",
    "adjectives = ['white', 'black', 'small']\n",
    "verbs = ['saw', 'chased']\n",
    "import random\n",
    "r = random.choice\n",
    "with open('animals.txt', 'w', encoding=\"utf-8\") as f:\n",
    "    for _ in range(100):\n",
    "        f.write(f' the {r(adjectives)} {r(nouns)} {r(verbs)} the {r(adjectives)} {r(nouns)}\\n')"
   ]
  },
  {
   "cell_type": "code",
   "execution_count": 2,
   "id": "7c4230ed-8f39-4690-9ea8-dd215771737b",
   "metadata": {},
   "outputs": [],
   "source": [
    "import torch\n",
    "import torch.nn as nn\n",
    "from torch.nn import functional as F\n",
    "torch.manual_seed(1337);"
   ]
  },
  {
   "cell_type": "code",
   "execution_count": 3,
   "id": "f2203a52-ead1-44fb-9c78-b68cd7ec31a1",
   "metadata": {},
   "outputs": [],
   "source": [
    "# hyperparameters\n",
    "batch_size = 4\n",
    "block_size = 12\n",
    "max_iters = 5000\n",
    "eval_interval = 500\n",
    "learning_rate = 3e-4\n",
    "device = 'cuda' if torch.cuda.is_available() else 'cpu'\n",
    "eval_iters = 200\n",
    "n_embd = 8\n",
    "n_head = 4\n",
    "n_layer = 2\n",
    "dropout = 0.2"
   ]
  },
  {
   "cell_type": "code",
   "execution_count": 4,
   "id": "e312fc32-6cba-417e-bfbd-d9bc3cbf6633",
   "metadata": {},
   "outputs": [],
   "source": [
    "with open('animals.txt', 'r', encoding='utf-8') as f:\n",
    "    text = f.read()\n",
    "lines = text.splitlines()\n",
    "allWords = [line.split() for line in lines]\n",
    "distinctWords = sorted(list(set([word for line in allWords for word in line])))\n",
    "tokens = ['\\n'] + [' ' + w for w in distinctWords]\n",
    "vocab_size = len(tokens)\n",
    "stoi = { ch:i for i,ch in enumerate(tokens) }\n",
    "itos = { i:ch for i,ch in enumerate(tokens) }\n",
    "decode = lambda l: ''.join([itos[i] for i in l])\n",
    "def encodedLine(line):   # e.g. ['big', 'dog'] --> [1, 5, 0]\n",
    "    return [stoi[' ' + w] for w in line] + [0]\n",
    "def flatten(a):\n",
    "    return [x for row in a for x in row]\n",
    "encodedText = flatten([encodedLine(words) for words in allWords])"
   ]
  },
  {
   "cell_type": "code",
   "execution_count": 5,
   "id": "173baca6-4085-4930-b371-2fb323b21fdf",
   "metadata": {},
   "outputs": [],
   "source": [
    "# Train and test splits\n",
    "data = torch.tensor(encodedText, dtype=torch.long)\n",
    "n = int(0.9*len(data)) # first 90% will be train, rest val\n",
    "train_data = data[:n]\n",
    "val_data = data[n:]"
   ]
  },
  {
   "cell_type": "code",
   "execution_count": 6,
   "id": "877cb5fa-d9c4-41ce-abcf-73d262263e58",
   "metadata": {},
   "outputs": [
    {
     "data": {
      "text/plain": [
       "9"
      ]
     },
     "execution_count": 6,
     "metadata": {},
     "output_type": "execute_result"
    }
   ],
   "source": [
    "vocab_size"
   ]
  },
  {
   "cell_type": "code",
   "execution_count": 7,
   "id": "72a3ea74-0592-4369-9ce7-5e0f4e96f9e0",
   "metadata": {},
   "outputs": [],
   "source": [
    "# data loading\n",
    "def get_batch(split):\n",
    "    # generate a small batch of data of inputs x and targets y\n",
    "    data = train_data if split == 'train' else val_data\n",
    "    ix = torch.randint(len(data) - block_size, (batch_size,))\n",
    "    x = torch.stack([data[i:i+block_size] for i in ix])\n",
    "    y = torch.stack([data[i+1:i+block_size+1] for i in ix])\n",
    "    x, y = x.to(device), y.to(device)\n",
    "    return x, y\n",
    "\n",
    "@torch.no_grad()\n",
    "def estimate_loss():\n",
    "    out = {}\n",
    "    model.eval()\n",
    "    for split in ['train', 'val']:\n",
    "        losses = torch.zeros(eval_iters)\n",
    "        for k in range(eval_iters):\n",
    "            X, Y = get_batch(split)\n",
    "            logits, loss = model(X, Y)\n",
    "            losses[k] = loss.item()\n",
    "        out[split] = losses.mean()\n",
    "    model.train()\n",
    "    return out"
   ]
  },
  {
   "cell_type": "code",
   "execution_count": 8,
   "id": "4451a891-58d9-4d7c-a15e-9f9a25128b8b",
   "metadata": {},
   "outputs": [],
   "source": [
    "class Head(nn.Module):\n",
    "    \"\"\" one head of self-attention \"\"\"\n",
    "\n",
    "    def __init__(self, head_size):\n",
    "        super().__init__()\n",
    "        self.key = nn.Linear(n_embd, head_size, bias=False)\n",
    "        self.query = nn.Linear(n_embd, head_size, bias=False)\n",
    "        self.value = nn.Linear(n_embd, head_size, bias=False)\n",
    "        self.register_buffer('tril', torch.tril(torch.ones(block_size, block_size)))\n",
    "\n",
    "        self.dropout = nn.Dropout(dropout)\n",
    "\n",
    "    def forward(self, x):\n",
    "        # input of size (batch, time-step, channels)\n",
    "        # output of size (batch, time-step, head size)\n",
    "        B,T,C = x.shape\n",
    "        k = self.key(x)   # (B,T,hs)\n",
    "        q = self.query(x) # (B,T,hs)\n",
    "        # compute attention scores (\"affinities\")\n",
    "        wei = q @ k.transpose(-2,-1) * k.shape[-1]**-0.5 # (B, T, hs) @ (B, hs, T) -> (B, T, T)\n",
    "        wei = wei.masked_fill(self.tril[:T, :T] == 0, float('-inf')) # (B, T, T)\n",
    "        wei = F.softmax(wei, dim=-1) # (B, T, T)\n",
    "        wei = self.dropout(wei)\n",
    "        # perform the weighted aggregation of the values\n",
    "        v = self.value(x) # (B,T,hs)\n",
    "        out = wei @ v # (B, T, T) @ (B, T, hs) -> (B, T, hs)\n",
    "        return out"
   ]
  },
  {
   "cell_type": "code",
   "execution_count": 9,
   "id": "9ca435c2-6534-4f89-ad08-8807cd3ea3f7",
   "metadata": {},
   "outputs": [],
   "source": [
    "class MultiHeadAttention(nn.Module):\n",
    "    \"\"\" multiple heads of self-attention in parallel \"\"\"\n",
    "\n",
    "    def __init__(self, num_heads, head_size):\n",
    "        super().__init__()\n",
    "        self.heads = nn.ModuleList([Head(head_size) for _ in range(num_heads)])\n",
    "        self.proj = nn.Linear(head_size * num_heads, n_embd)\n",
    "        self.dropout = nn.Dropout(dropout)\n",
    "\n",
    "    def forward(self, x):\n",
    "        out = torch.cat([h(x) for h in self.heads], dim=-1)\n",
    "        out = self.dropout(self.proj(out))\n",
    "        return out"
   ]
  },
  {
   "cell_type": "code",
   "execution_count": 10,
   "id": "541746cf-8737-47e4-8e65-79de6411bf40",
   "metadata": {},
   "outputs": [],
   "source": [
    "class FeedFoward(nn.Module):\n",
    "    \"\"\" a simple linear layer followed by a non-linearity \"\"\"\n",
    "\n",
    "    def __init__(self, n_embd):\n",
    "        super().__init__()\n",
    "        self.net = nn.Sequential(\n",
    "            nn.Linear(n_embd, 4 * n_embd),\n",
    "            nn.ReLU(),\n",
    "            nn.Linear(4 * n_embd, n_embd),\n",
    "            nn.Dropout(dropout),\n",
    "        )\n",
    "\n",
    "    def forward(self, x):\n",
    "        return self.net(x)"
   ]
  },
  {
   "cell_type": "code",
   "execution_count": 11,
   "id": "904e0c3e-5080-4c34-b68d-26f1fabb9c9c",
   "metadata": {},
   "outputs": [],
   "source": [
    "class Block(nn.Module):\n",
    "    \"\"\" Transformer block: communication followed by computation \"\"\"\n",
    "\n",
    "    def __init__(self, n_embd, n_head):\n",
    "        # n_embd: embedding dimension, n_head: the number of heads we'd like\n",
    "        super().__init__()\n",
    "        head_size = n_embd // n_head\n",
    "        self.sa = MultiHeadAttention(n_head, head_size)\n",
    "        self.ffwd = FeedFoward(n_embd)\n",
    "        self.ln1 = nn.LayerNorm(n_embd)\n",
    "        self.ln2 = nn.LayerNorm(n_embd)\n",
    "\n",
    "    def forward(self, x):\n",
    "        x = x + self.sa(self.ln1(x))\n",
    "        x = x + self.ffwd(self.ln2(x))\n",
    "        return x"
   ]
  },
  {
   "cell_type": "code",
   "execution_count": 12,
   "id": "371a5705-f4a8-4028-bbd6-83b953fa6110",
   "metadata": {},
   "outputs": [],
   "source": [
    "class GPTLanguageModel(nn.Module):\n",
    "\n",
    "    def __init__(self):\n",
    "        super().__init__()\n",
    "        # each token directly reads off the logits for the next token from a lookup table\n",
    "        self.token_embedding_table = nn.Embedding(vocab_size, n_embd)\n",
    "        self.position_embedding_table = nn.Embedding(block_size, n_embd)\n",
    "        self.blocks = nn.Sequential(*[Block(n_embd, n_head=n_head) for _ in range(n_layer)])\n",
    "        self.ln_f = nn.LayerNorm(n_embd) # final layer norm\n",
    "        self.lm_head = nn.Linear(n_embd, vocab_size)\n",
    "\n",
    "        # better init, not covered in the original GPT video, but important, will cover in followup video\n",
    "        self.apply(self._init_weights)\n",
    "\n",
    "    def _init_weights(self, module):\n",
    "        if isinstance(module, nn.Linear):\n",
    "            torch.nn.init.normal_(module.weight, mean=0.0, std=0.02)\n",
    "            if module.bias is not None:\n",
    "                torch.nn.init.zeros_(module.bias)\n",
    "        elif isinstance(module, nn.Embedding):\n",
    "            torch.nn.init.normal_(module.weight, mean=0.0, std=0.02)\n",
    "\n",
    "    def forward(self, idx, targets=None):\n",
    "        B, T = idx.shape\n",
    "\n",
    "        # idx and targets are both (B,T) tensor of integers\n",
    "        tok_emb = self.token_embedding_table(idx) # (B,T,C)\n",
    "        pos_emb = self.position_embedding_table(torch.arange(T, device=device)) # (T,C)\n",
    "        x = tok_emb + pos_emb # (B,T,C)\n",
    "        x = self.blocks(x) # (B,T,C)\n",
    "        x = self.ln_f(x) # (B,T,C)\n",
    "        logits = self.lm_head(x) # (B,T,vocab_size)\n",
    "\n",
    "        if targets is None:\n",
    "            loss = None\n",
    "        else:\n",
    "            B, T, C = logits.shape\n",
    "            logits = logits.view(B*T, C)\n",
    "            targets = targets.view(B*T)\n",
    "            loss = F.cross_entropy(logits, targets)\n",
    "\n",
    "        return logits, loss\n",
    "\n",
    "    def generate(self, idx, max_new_tokens):\n",
    "        # idx is (B, T) array of indices in the current context\n",
    "        for _ in range(max_new_tokens):\n",
    "            # crop idx to the last block_size tokens\n",
    "            idx_cond = idx[:, -block_size:]\n",
    "            # get the predictions\n",
    "            logits, loss = self(idx_cond)\n",
    "            # focus only on the last time step\n",
    "            logits = logits[:, -1, :] # becomes (B, C)\n",
    "            # apply softmax to get probabilities\n",
    "            probs = F.softmax(logits, dim=-1) # (B, C)\n",
    "            # sample from the distribution\n",
    "            idx_next = torch.multinomial(probs, num_samples=1) # (B, 1)\n",
    "            # append sampled index to the running sequence\n",
    "            idx = torch.cat((idx, idx_next), dim=1) # (B, T+1)\n",
    "        return idx"
   ]
  },
  {
   "cell_type": "code",
   "execution_count": 13,
   "id": "0ca4d7d6-0adb-4b0d-8ac1-e7eeb9d9adcb",
   "metadata": {},
   "outputs": [
    {
     "name": "stdout",
     "output_type": "stream",
     "text": [
      "1961 parameters\n"
     ]
    }
   ],
   "source": [
    "model = GPTLanguageModel()\n",
    "m = model.to(device)\n",
    "# print the number of parameters in the model\n",
    "print(sum(p.numel() for p in m.parameters()), 'parameters')"
   ]
  },
  {
   "cell_type": "code",
   "execution_count": 14,
   "id": "4970a984-4c34-445c-b07a-848255e7aa5d",
   "metadata": {},
   "outputs": [
    {
     "name": "stdout",
     "output_type": "stream",
     "text": [
      "step 0: train loss 2.2017, val loss 2.2000\n",
      "step 500: train loss 1.1733, val loss 1.1718\n",
      "step 1000: train loss 0.8567, val loss 0.8589\n",
      "step 1500: train loss 0.7747, val loss 0.7841\n",
      "step 2000: train loss 0.7467, val loss 0.7479\n",
      "step 2500: train loss 0.6756, val loss 0.6779\n",
      "step 3000: train loss 0.6057, val loss 0.6117\n",
      "step 3500: train loss 0.5934, val loss 0.5982\n",
      "step 4000: train loss 0.5886, val loss 0.5939\n",
      "step 4500: train loss 0.5843, val loss 0.5850\n",
      "step 4999: train loss 0.5851, val loss 0.5856\n"
     ]
    }
   ],
   "source": [
    "# create a PyTorch optimizer\n",
    "optimizer = torch.optim.AdamW(model.parameters(), lr=learning_rate)\n",
    "\n",
    "for iter in range(max_iters):\n",
    "\n",
    "    # every once in a while evaluate the loss on train and val sets\n",
    "    if iter % eval_interval == 0 or iter == max_iters - 1:\n",
    "        losses = estimate_loss()\n",
    "        print(f\"step {iter}: train loss {losses['train']:.4f}, val loss {losses['val']:.4f}\")\n",
    "\n",
    "    # sample a batch of data\n",
    "    xb, yb = get_batch('train')\n",
    "\n",
    "    # evaluate the loss\n",
    "    logits, loss = model(xb, yb)\n",
    "    optimizer.zero_grad(set_to_none=True)\n",
    "    loss.backward()\n",
    "    optimizer.step()"
   ]
  },
  {
   "cell_type": "code",
   "execution_count": 15,
   "id": "7329d765-5736-497d-87bc-c7664c87e523",
   "metadata": {},
   "outputs": [
    {
     "name": "stdout",
     "output_type": "stream",
     "text": [
      "\n",
      " the white cat chased the white dog\n",
      " the the small cat saw the small cat\n",
      " the white dog chased the white dog\n",
      " the white cat saw the black cat\n",
      " the white cat chased the black cat\n",
      " the black dog chased the white dog\n",
      " the white dog saw the white cat\n",
      " the black cat saw the small dog\n",
      " the white dog saw the black cat\n",
      " the small dog chased the white dog\n",
      " the black dog chased the white cat\n",
      " the white dog saw the white cat\n",
      " the black cat\n"
     ]
    }
   ],
   "source": [
    "# generate from the model\n",
    "context = torch.zeros((1, 1), dtype=torch.long, device=device)\n",
    "print(decode(m.generate(context, max_new_tokens=100)[0].tolist()))"
   ]
  },
  {
   "cell_type": "code",
   "execution_count": 16,
   "id": "b6a6b6e1",
   "metadata": {},
   "outputs": [
    {
     "data": {
      "text/plain": [
       "['\\n', ' black', ' cat', ' chased', ' dog', ' saw', ' small', ' the', ' white']"
      ]
     },
     "execution_count": 16,
     "metadata": {},
     "output_type": "execute_result"
    }
   ],
   "source": [
    "tokens"
   ]
  },
  {
   "cell_type": "code",
   "execution_count": 17,
   "id": "51ed4ff9",
   "metadata": {},
   "outputs": [],
   "source": [
    "w = model.token_embedding_table.weight"
   ]
  },
  {
   "cell_type": "code",
   "execution_count": 18,
   "id": "40408fca",
   "metadata": {},
   "outputs": [],
   "source": [
    "def f(i, j):\n",
    "    return torch.dot(w[i], w[j]).item()"
   ]
  },
  {
   "cell_type": "code",
   "execution_count": 19,
   "id": "11c97793",
   "metadata": {},
   "outputs": [
    {
     "data": {
      "text/plain": [
       "tensor([[ 29,   0,  -8,   6,  -9,   5,  -5,  -9,  -7],\n",
       "        [  0,  41, -15,  -7, -12,  -8,  39,  -7,  40],\n",
       "        [ -8, -15,  27,  -8,  24,  -5, -15, -15, -15],\n",
       "        [  6,  -7,  -8,  23,  -8,  17,  -3,  -7,  -4],\n",
       "        [ -9, -12,  24,  -8,  22,  -5, -12, -14, -12],\n",
       "        [  5,  -8,  -5,  17,  -5,  21,  -7,  -9,  -2],\n",
       "        [ -5,  39, -15,  -3, -12,  -7,  38,  -5,  40],\n",
       "        [ -9,  -7, -15,  -7, -14,  -9,  -5,  51,  -8],\n",
       "        [ -7,  40, -15,  -4, -12,  -2,  40,  -8,  47]], device='cuda:0',\n",
       "       dtype=torch.int32)"
      ]
     },
     "execution_count": 19,
     "metadata": {},
     "output_type": "execute_result"
    }
   ],
   "source": [
    "# The dot products of the embeddings with each other.\n",
    "((w @ w.transpose(-2,-1)) * 1000).int()"
   ]
  },
  {
   "cell_type": "code",
   "execution_count": 20,
   "id": "c3917179",
   "metadata": {},
   "outputs": [
    {
     "name": "stdout",
     "output_type": "stream",
     "text": [
      " black  small\n",
      " black  white\n",
      " cat  dog\n",
      " chased  saw\n",
      " small  white\n"
     ]
    }
   ],
   "source": [
    "# Print the tokens whose embeddings are correlated.\n",
    "for i in range(1, vocab_size):\n",
    "    for j in range(i+1, vocab_size):\n",
    "        if (f(i, j) > 0):\n",
    "            print(tokens[i], tokens[j])"
   ]
  }
 ],
 "metadata": {
  "kernelspec": {
   "display_name": "Python 3 (ipykernel)",
   "language": "python",
   "name": "python3"
  },
  "language_info": {
   "codemirror_mode": {
    "name": "ipython",
    "version": 3
   },
   "file_extension": ".py",
   "mimetype": "text/x-python",
   "name": "python",
   "nbconvert_exporter": "python",
   "pygments_lexer": "ipython3",
   "version": "3.11.4"
  }
 },
 "nbformat": 4,
 "nbformat_minor": 5
}
